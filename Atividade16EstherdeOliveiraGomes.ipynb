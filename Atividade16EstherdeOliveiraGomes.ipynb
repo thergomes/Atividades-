{
  "nbformat": 4,
  "nbformat_minor": 0,
  "metadata": {
    "colab": {
      "provenance": [],
      "authorship_tag": "ABX9TyPp8U6Ui8m4hFblDiXLP1tz",
      "include_colab_link": true
    },
    "kernelspec": {
      "name": "python3",
      "display_name": "Python 3"
    },
    "language_info": {
      "name": "python"
    }
  },
  "cells": [
    {
      "cell_type": "markdown",
      "metadata": {
        "id": "view-in-github",
        "colab_type": "text"
      },
      "source": [
        "<a href=\"https://colab.research.google.com/github/thergomes/BCC-19-Esther-de-Oliveira-Gomes/blob/main/Atividade16EstherdeOliveiraGomes.ipynb\" target=\"_parent\"><img src=\"https://colab.research.google.com/assets/colab-badge.svg\" alt=\"Open In Colab\"/></a>"
      ]
    },
    {
      "cell_type": "code",
      "execution_count": null,
      "metadata": {
        "id": "8c2ovLTOzA5Z"
      },
      "outputs": [],
      "source": [
        "#1)\n",
        "import numpy as np\n",
        "import matplotlib.pyplot as plt\n",
        "\n",
        "def fun(t,A,b,c):\n",
        "  '''\n",
        "  Retorna um vetor x e plota um gráfico de x em função de t\n",
        "\n",
        "  Parâmetros\n",
        "  ---------------------------------------------------------\n",
        "  t:array\n",
        "  vetor utilizado na função\n",
        "\n",
        "  A:int\n",
        "  Número inteiro utilizado na função\n",
        "\n",
        "  b:float\n",
        "  Número racional utilizado na funçãp\n",
        "\n",
        "  c:int\n",
        "  Número inteiro utilizado na função\n",
        "\n",
        "  Retorna\n",
        "  ---------------------------------------------------------\n",
        "  x:array\n",
        "  vetor criado a partir de uma função\n",
        "  '''\n",
        "  x= A*(1+b*t**2)**0.5+c\n",
        "\n",
        "  plt.plot(t,x)\n",
        "  plt.grid()\n",
        "  plt.show()\n",
        "\n",
        "  return x\n",
        "\n",
        "#a)\n",
        "t1=np.linspace(0,10,1000)  \n",
        "A1=2\n",
        "b1=0.5\n",
        "c1=0\n",
        "print(fun(t1,A1,b1,c1))\n",
        "\n",
        "#b)\n",
        "t2=np.arange(0,15,0.2)  \n",
        "A2=10\n",
        "b2=0.2\n",
        "c2=1\n",
        "print(fun(t2,A2,b2,c2))\n",
        "\n",
        "#c)\n",
        "t3=np.linspace(-0.5,0.5,500)  \n",
        "A3=-3\n",
        "b3=-1.5\n",
        "c3=-10\n",
        "print(fun(t3,A3,b3,c3))"
      ]
    },
    {
      "cell_type": "code",
      "source": [
        "#2)\n",
        "import numpy as np\n",
        "\n",
        "def cara_ou_coroa():\n",
        "  '''\n",
        "  '''\n",
        "  x=np.random.rand(1)\n",
        "  if x<0.5:\n",
        "    print('Cara')\n",
        "  else:\n",
        "    print('Coroa')\n",
        "\n",
        "cara_ou_coroa() \n",
        "cara_ou_coroa()    \n",
        "cara_ou_coroa() \n",
        "cara_ou_coroa() \n",
        "cara_ou_coroa() \n",
        "cara_ou_coroa() \n",
        "cara_ou_coroa() \n",
        "cara_ou_coroa() \n",
        "cara_ou_coroa() \n",
        "cara_ou_coroa()"
      ],
      "metadata": {
        "id": "a55vlmZNzbyB"
      },
      "execution_count": null,
      "outputs": []
    },
    {
      "cell_type": "code",
      "source": [
        "#3)\n",
        "import numpy as np\n",
        "import pandas as pd\n",
        "\n",
        "def brasileirao(time):\n",
        "  '''\n",
        "  '''\n",
        "  tabela= pd.read_csv(\"https://raw.githubusercontent.com/BMClab/BasesComputacionais/master/dados/tabelaBrasileirao2018.csv\")\n",
        "  jogos=tabela.query('Mandante==@time')\n",
        "  renda = jogos['Renda (R$)']\n",
        "  return np.mean(renda)\n",
        "\n",
        "#a)\n",
        "print(brasileirao('Cruzeiro')) \n",
        "\n",
        "#b)\n",
        "print(brasileirao('São Paulo'))\n",
        "\n",
        "#c)\n",
        "print(brasileirao('Palmeiras'))\n",
        "\n",
        "#d)\n",
        "print(brasileirao('Flamengo'))"
      ],
      "metadata": {
        "id": "P-EXLUWSzd8u"
      },
      "execution_count": null,
      "outputs": []
    },
    {
      "cell_type": "code",
      "source": [
        "#4)\n",
        "import matplotlib.pyplot as plt\n",
        "import numpy as np\n",
        "\n",
        "def inc(x1,y1,x2,y2,N):\n",
        "  '''\n",
        "  '''\n",
        "  p1=x1,y1\n",
        "  p2=x2,y2\n",
        "  m=y2-y1/x2-x1\n",
        "  b=y1-m*x1\n",
        "  N=np.linspace(0,y,N)\n",
        "  plt.plot(p1,p2)\n",
        "  plt.plot(x1,y1,marker='.',color='red')\n",
        "  plt.plot(x2,y2,marker ='.',color='red')\n",
        "  plt.grid()\n",
        "  plt.show()\n",
        "  return m,b\n",
        "\n",
        "\n",
        "x,y=inc(-19,2,10,-10,1000)\n",
        "print(x,y)"
      ],
      "metadata": {
        "id": "_JCRB1dDzkRo"
      },
      "execution_count": null,
      "outputs": []
    }
  ]
}