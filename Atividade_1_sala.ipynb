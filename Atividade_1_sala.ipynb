{
  "nbformat": 4,
  "nbformat_minor": 0,
  "metadata": {
    "colab": {
      "provenance": [],
      "authorship_tag": "ABX9TyP4wml4lMHCvZwHm3256/bE",
      "include_colab_link": true
    },
    "kernelspec": {
      "name": "python3",
      "display_name": "Python 3"
    },
    "language_info": {
      "name": "python"
    }
  },
  "cells": [
    {
      "cell_type": "markdown",
      "metadata": {
        "id": "view-in-github",
        "colab_type": "text"
      },
      "source": [
        "<a href=\"https://colab.research.google.com/github/thergomes/Atividades-/blob/main/Atividade_1_sala.ipynb\" target=\"_parent\"><img src=\"https://colab.research.google.com/assets/colab-badge.svg\" alt=\"Open In Colab\"/></a>"
      ]
    },
    {
      "cell_type": "markdown",
      "source": [
        "Esther de Oliveira Gomes"
      ],
      "metadata": {
        "id": "2tpZ5LJpZ4Cx"
      }
    },
    {
      "cell_type": "code",
      "execution_count": 2,
      "metadata": {
        "colab": {
          "base_uri": "https://localhost:8080/"
        },
        "id": "nS66pO86Z3Yp",
        "outputId": "37d03ee0-596e-451c-c2e6-4d73fdb53bf8"
      },
      "outputs": [
        {
          "output_type": "stream",
          "name": "stdout",
          "text": [
            "1) 5400\n",
            "2) 43200\n",
            "3) 86400\n"
          ]
        }
      ],
      "source": [
        "#formula: h*3600 + m*60\n",
        "\n",
        "h=3600\n",
        "m=60\n",
        "\n",
        "a=1*h + 30*m\n",
        "b=12*h\n",
        "c=24*h\n",
        "\n",
        "print('1)', a)\n",
        "print('2)', b)\n",
        "print('3)', c)"
      ]
    }
  ]
}