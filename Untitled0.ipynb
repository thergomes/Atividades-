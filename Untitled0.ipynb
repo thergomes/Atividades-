{
  "nbformat": 4,
  "nbformat_minor": 0,
  "metadata": {
    "colab": {
      "provenance": [],
      "authorship_tag": "ABX9TyOkjTrQaQmDvATBayRw8unF",
      "include_colab_link": true
    },
    "kernelspec": {
      "name": "python3",
      "display_name": "Python 3"
    },
    "language_info": {
      "name": "python"
    }
  },
  "cells": [
    {
      "cell_type": "markdown",
      "metadata": {
        "id": "view-in-github",
        "colab_type": "text"
      },
      "source": [
        "<a href=\"https://colab.research.google.com/github/thergomes/BCC-19-Esther-de-Oliveira-Gomes/blob/main/Untitled0.ipynb\" target=\"_parent\"><img src=\"https://colab.research.google.com/assets/colab-badge.svg\" alt=\"Open In Colab\"/></a>"
      ]
    },
    {
      "cell_type": "markdown",
      "source": [
        "Esther de Oliveira Gomes"
      ],
      "metadata": {
        "id": "P5bJztIx5Awt"
      }
    },
    {
      "cell_type": "code",
      "execution_count": null,
      "metadata": {
        "id": "S8yPA-ca47zr"
      },
      "outputs": [],
      "source": [
        "import pandas as pd\n",
        "import matplotlib.pyplot as plt\n",
        "import numpy as np\n",
        "\n",
        "populacao = pd.read_csv('https://raw.githubusercontent.com/BMClab/BasesComputacionais/master/dados/analfabetismo.csv')\n",
        "populacao['Ano'] = pd.to_datetime(populacao['Ano'], format= '%Y')\n",
        "saopaulo= populacao['São Paulo']\n",
        "anos= populacao['Ano'].dt.year\n",
        "\n",
        "\n",
        "plt.figure()\n",
        "plt.plot(anos, saopaulo)\n",
        "plt.grid()\n",
        "plt.xlabel('Anos')\n",
        "plt.ylabel('% de analfabetismo em São Paulo')\n",
        "plt.show()"
      ]
    }
  ]
}