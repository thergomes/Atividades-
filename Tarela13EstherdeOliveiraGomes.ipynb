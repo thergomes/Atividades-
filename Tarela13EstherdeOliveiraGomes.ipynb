{
  "nbformat": 4,
  "nbformat_minor": 0,
  "metadata": {
    "colab": {
      "provenance": [],
      "authorship_tag": "ABX9TyMKpnwjuscHoxXgBRUAHjvM",
      "include_colab_link": true
    },
    "kernelspec": {
      "name": "python3",
      "display_name": "Python 3"
    },
    "language_info": {
      "name": "python"
    }
  },
  "cells": [
    {
      "cell_type": "markdown",
      "metadata": {
        "id": "view-in-github",
        "colab_type": "text"
      },
      "source": [
        "<a href=\"https://colab.research.google.com/github/thergomes/BCC-19-Esther-de-Oliveira-Gomes/blob/main/Tarela13EstherdeOliveiraGomes.ipynb\" target=\"_parent\"><img src=\"https://colab.research.google.com/assets/colab-badge.svg\" alt=\"Open In Colab\"/></a>"
      ]
    },
    {
      "cell_type": "markdown",
      "source": [
        "Esther de Oliveira Gomes"
      ],
      "metadata": {
        "id": "wtR9XbqOwrgX"
      }
    },
    {
      "cell_type": "code",
      "source": [
        "import numpy as np\n",
        "import pandas as pd\n",
        "import matplotlib.pyplot as plt\n",
        "\n",
        "tabela = pd.read_csv(\"https://raw.githubusercontent.com/BMClab/BasesComputacionais/master/dados/tabelaBrasileirao2018.csv\")\n",
        "saopaulo= tabela.query('Mandante == \"São Paulo\"')\n",
        "\n",
        "#a)\n",
        "plt.figure()\n",
        "plt.grid()\n",
        "saopaulo['Público'].hist(bins=np.arange(0, 65000, 5500))\n",
        "plt.xlabel('Público nos jogos em que o São Paulo foi o mandante')\n",
        "plt.show()\n",
        "\n",
        "#b)\n",
        "print('\\nO público médio nos jogos em que o São Paulo foi o mandante é',round(saopaulo['Público'].mean(),2))"
      ],
      "metadata": {
        "colab": {
          "base_uri": "https://localhost:8080/",
          "height": 315
        },
        "id": "B9Xl6VGGwrtQ",
        "outputId": "ec025083-d7a9-4d47-95ec-da61ddee5979"
      },
      "execution_count": 1,
      "outputs": [
        {
          "output_type": "display_data",
          "data": {
            "text/plain": [
              "<Figure size 432x288 with 1 Axes>"
            ],
            "image/png": "[encoded data removed]"
          },
          "metadata": {
            "needs_background": "light"
          }
        },
        {
          "output_type": "stream",
          "name": "stdout",
          "text": [
            "\n",
            "O público médio nos jogos em que o São Paulo foi o mandante é 34320.95\n"
          ]
        }
      ]
    }
  ]
}