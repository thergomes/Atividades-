{
  "nbformat": 4,
  "nbformat_minor": 0,
  "metadata": {
    "colab": {
      "provenance": [],
      "authorship_tag": "ABX9TyNoXc2N4S4X+3y9gt+smAwl",
      "include_colab_link": true
    },
    "kernelspec": {
      "name": "python3",
      "display_name": "Python 3"
    },
    "language_info": {
      "name": "python"
    }
  },
  "cells": [
    {
      "cell_type": "markdown",
      "metadata": {
        "id": "view-in-github",
        "colab_type": "text"
      },
      "source": [
        "<a href=\"https://colab.research.google.com/github/thergomes/BCC-19-Esther-de-Oliveira-Gomes/blob/main/Tarefa4EstherdeOliveiraGomes.ipynb\" target=\"_parent\"><img src=\"https://colab.research.google.com/assets/colab-badge.svg\" alt=\"Open In Colab\"/></a>"
      ]
    },
    {
      "cell_type": "markdown",
      "source": [
        "Esther de Oliveira Gomes"
      ],
      "metadata": {
        "id": "L1El2xbR4Jlf"
      }
    },
    {
      "cell_type": "code",
      "execution_count": null,
      "metadata": {
        "id": "NjqLAxvS4GFG"
      },
      "outputs": [],
      "source": [
        "#1)\n",
        "import numpy as np \n",
        "#a)\n",
        "R=0.32\n",
        "V=4/3*np.pi*R**3\n",
        "print('O volume dessa esfera é de',round(V,2))\n",
        "\n",
        "#b)\n",
        "R=1\n",
        "V=4/3*np.pi*R**3\n",
        "print('O volume dessa esfera é de',round(V,2))\n",
        "\n",
        "#c)\n",
        "R=1.9\n",
        "V=4/3*np.pi*R**3\n",
        "print('O volume dessa esfera é de',round(V,2))"
      ]
    },
    {
      "cell_type": "code",
      "source": [
        "#2)\n",
        "import numpy as np\n",
        "#a)\n",
        "Tc=-10\n",
        "Tf=9/5*Tc+32\n",
        "print('A temperatura dada em Celsius',Tc,'°C, convertida para Fahrenheit é igual a', int(Tf),'°F')\n",
        "\n",
        "#b)\n",
        "Tc=30\n",
        "Tf=9/5*Tc+32\n",
        "print('A temperatura dada em Celsius',Tc,'°C, convertida para Fahrenheit é igual a', int(Tf),'°F')\n",
        "\n",
        "#c)\n",
        "Tc=5\n",
        "Tf=9/5*Tc+32\n",
        "print('A temperatura dada em Celsius',Tc,'°C, convertida para Fahrenheit é igual a', int(Tf),'°F')"
      ],
      "metadata": {
        "id": "fZk3vAB_4QIy"
      },
      "execution_count": null,
      "outputs": []
    },
    {
      "cell_type": "code",
      "source": [
        "#3)\n",
        "import numpy as np\n",
        "#a)\n",
        "a=1\n",
        "b=2\n",
        "ang=30\n",
        "\n",
        "c=(a**2+b**2-2*a*b*np.cos(ang))**0.5\n",
        "print('O tamanho do lado c desse triângulo é de', round(c,2))\n",
        "\n",
        "#b)\n",
        "a=3\n",
        "b=1\n",
        "ang=45\n",
        "\n",
        "c=(a**2+b**2-2*a*b*np.cos(ang))**0.5\n",
        "print('O tamanho do lado c desse triângulo é de', round(c,2))\n",
        "\n",
        "#c)\n",
        "a=10\n",
        "b=11\n",
        "ang=15\n",
        "\n",
        "c=(a**2+b**2-2*a*b*np.cos(ang))**0.5\n",
        "print('O tamanho do lado c desse triângulo é de', round(c,2))\n"
      ],
      "metadata": {
        "id": "xRJVHen44cir"
      },
      "execution_count": null,
      "outputs": []
    },
    {
      "cell_type": "code",
      "source": [
        "#4)\n",
        "import numpy as np\n",
        "\n",
        "#a)\n",
        "i=30\n",
        "\n",
        "Fi=np.floor((1+5**0.5/2)**i-(1-5**0.5/2)**i/5**0.5)\n",
        "print('O i-ésimo número é o',int(Fi))\n",
        "\n",
        "#b)\n",
        "i=31\n",
        "\n",
        "Fi=np.floor((1+5**0.5/2)**i-(1-5**0.5/2)**i/5**0.5)\n",
        "print('O i-ésimo número é o',int(Fi))\n",
        "\n",
        "#c)\n",
        "i=32\n",
        "\n",
        "Fi=np.floor((1+5**0.5/2)**i-(1-5**0.5/2)**i/5**0.5)\n",
        "print('O i-ésimo número é o',int(Fi))"
      ],
      "metadata": {
        "id": "XCQYYJXD4py_"
      },
      "execution_count": null,
      "outputs": []
    },
    {
      "cell_type": "code",
      "source": [],
      "metadata": {
        "id": "e13q032G4zKM"
      },
      "execution_count": null,
      "outputs": []
    }
  ]
}