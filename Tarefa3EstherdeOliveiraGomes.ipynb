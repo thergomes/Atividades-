{
  "nbformat": 4,
  "nbformat_minor": 0,
  "metadata": {
    "colab": {
      "provenance": [],
      "authorship_tag": "ABX9TyOXjciuk+XqMNAo+rw41LR2",
      "include_colab_link": true
    },
    "kernelspec": {
      "name": "python3",
      "display_name": "Python 3"
    },
    "language_info": {
      "name": "python"
    }
  },
  "cells": [
    {
      "cell_type": "markdown",
      "metadata": {
        "id": "view-in-github",
        "colab_type": "text"
      },
      "source": [
        "<a href=\"https://colab.research.google.com/github/thergomes/BCC-19-Esther-de-Oliveira-Gomes/blob/main/Tarefa3EstherdeOliveiraGomes.ipynb\" target=\"_parent\"><img src=\"https://colab.research.google.com/assets/colab-badge.svg\" alt=\"Open In Colab\"/></a>"
      ]
    },
    {
      "cell_type": "markdown",
      "source": [
        "Esther de Oliveira Gomes"
      ],
      "metadata": {
        "id": "FA885QN33tD0"
      }
    },
    {
      "cell_type": "code",
      "execution_count": null,
      "metadata": {
        "id": "cG4h0_Ph3qPY"
      },
      "outputs": [],
      "source": [
        "#a)\n",
        "\n",
        "h=1.5\n",
        "m=h*60\n",
        "s=m*60\n",
        "print('1 hora e meia equivale a',int(s),'segundos.')\n",
        "\n",
        "#b)\n",
        "\n",
        "h=12\n",
        "m=h*60\n",
        "s=m*60\n",
        "print('12 horas equivalem a',int(s),'segundos.')\n",
        "\n",
        "#c)\n",
        "\n",
        "h=24\n",
        "m=h*60\n",
        "s=m*60\n",
        "print('24 horas equivalem a',int(s),'segundos.')"
      ]
    }
  ]
}