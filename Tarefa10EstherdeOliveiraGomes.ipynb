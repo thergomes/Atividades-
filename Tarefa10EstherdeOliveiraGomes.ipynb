{
  "nbformat": 4,
  "nbformat_minor": 0,
  "metadata": {
    "colab": {
      "provenance": [],
      "authorship_tag": "ABX9TyP01O65jfhetATio+jos3vn",
      "include_colab_link": true
    },
    "kernelspec": {
      "name": "python3",
      "display_name": "Python 3"
    },
    "language_info": {
      "name": "python"
    }
  },
  "cells": [
    {
      "cell_type": "markdown",
      "metadata": {
        "id": "view-in-github",
        "colab_type": "text"
      },
      "source": [
        "<a href=\"https://colab.research.google.com/github/thergomes/BCC-19-Esther-de-Oliveira-Gomes/blob/main/Tarefa10EstherdeOliveiraGomes.ipynb\" target=\"_parent\"><img src=\"https://colab.research.google.com/assets/colab-badge.svg\" alt=\"Open In Colab\"/></a>"
      ]
    },
    {
      "cell_type": "markdown",
      "source": [
        "Esther de Oliveira Gomes"
      ],
      "metadata": {
        "id": "wmBkBAHIA5Qh"
      }
    },
    {
      "cell_type": "code",
      "execution_count": 5,
      "metadata": {
        "colab": {
          "base_uri": "https://localhost:8080/"
        },
        "id": "Wwa852ka8qjR",
        "outputId": "ee1079ff-025d-45cc-f289-affd72f8ab5a"
      },
      "outputs": [
        {
          "output_type": "stream",
          "name": "stdout",
          "text": [
            "A porcentagem de jogos em que o time da casa ganhou foi de 53.1578947368421 %\n"
          ]
        }
      ],
      "source": [
        "#1)\n",
        "from pandas.core.base import value_counts\n",
        "import pandas as pd\n",
        "import numpy as np\n",
        "\n",
        "#a)\n",
        "brasileirao = pd.read_csv('https://raw.githubusercontent.com/BMClab/BasesComputacionais/master/dados/tabelaBrasileirao2018.csv')\n",
        "brasileirao ['Mandante Venceu'] = brasileirao ['Placar do Mandante'] >brasileirao ['Placar do Visitante']\n",
        "mandante=brasileirao ['Mandante Venceu'].value_counts()\n",
        "forma =brasileirao.shape\n",
        "porcentagem= (mandante[True]*100)/forma[0]\n",
        "\n",
        "print('A porcentagem de jogos em que o time da casa ganhou foi de',porcentagem, '%')"
      ]
    },
    {
      "cell_type": "code",
      "source": [
        "import pandas as pd\n",
        "import numpy as np\n",
        "\n",
        "#b)\n",
        "brasileirao = pd.read_csv('https://raw.githubusercontent.com/BMClab/BasesComputacionais/master/dados/tabelaBrasileirao2018.csv')\n",
        "brasileirao['Mandante n perdeu'] = brasileirao ['Placar do Mandante']>=brasileirao['Placar do Visitante']\n",
        "mandante=brasileirao['Madante n perdeu'].valeu_counts()\n",
        "forma = brasileirao\n",
        "porcentagem = (mandante[True]*100)/forma[0]\n",
        "\n",
        "print('A porcentagem de jogos em que o time da casa não perdeu foi de',porcentagem,'%')\n"
      ],
      "metadata": {
        "colab": {
          "base_uri": "https://localhost:8080/",
          "height": 502
        },
        "id": "knXqIkJZDQoP",
        "outputId": "9747df84-b547-425f-c9d4-9417a4c5919e"
      },
      "execution_count": 20,
      "outputs": [
        {
          "output_type": "error",
          "ename": "KeyError",
          "evalue": "ignored",
          "traceback": [
            "\u001b[0;31m---------------------------------------------------------------------------\u001b[0m",
            "\u001b[0;31mKeyError\u001b[0m                                  Traceback (most recent call last)",
            "\u001b[0;32m/usr/local/lib/python3.7/dist-packages/pandas/core/indexes/base.py\u001b[0m in \u001b[0;36mget_loc\u001b[0;34m(self, key, method, tolerance)\u001b[0m\n\u001b[1;32m   3360\u001b[0m             \u001b[0;32mtry\u001b[0m\u001b[0;34m:\u001b[0m\u001b[0;34m\u001b[0m\u001b[0;34m\u001b[0m\u001b[0m\n\u001b[0;32m-> 3361\u001b[0;31m                 \u001b[0;32mreturn\u001b[0m \u001b[0mself\u001b[0m\u001b[0;34m.\u001b[0m\u001b[0m_engine\u001b[0m\u001b[0;34m.\u001b[0m\u001b[0mget_loc\u001b[0m\u001b[0;34m(\u001b[0m\u001b[0mcasted_key\u001b[0m\u001b[0;34m)\u001b[0m\u001b[0;34m\u001b[0m\u001b[0;34m\u001b[0m\u001b[0m\n\u001b[0m\u001b[1;32m   3362\u001b[0m             \u001b[0;32mexcept\u001b[0m \u001b[0mKeyError\u001b[0m \u001b[0;32mas\u001b[0m \u001b[0merr\u001b[0m\u001b[0;34m:\u001b[0m\u001b[0;34m\u001b[0m\u001b[0;34m\u001b[0m\u001b[0m\n",
            "\u001b[0;32m/usr/local/lib/python3.7/dist-packages/pandas/_libs/index.pyx\u001b[0m in \u001b[0;36mpandas._libs.index.IndexEngine.get_loc\u001b[0;34m()\u001b[0m\n",
            "\u001b[0;32m/usr/local/lib/python3.7/dist-packages/pandas/_libs/index.pyx\u001b[0m in \u001b[0;36mpandas._libs.index.IndexEngine.get_loc\u001b[0;34m()\u001b[0m\n",
            "\u001b[0;32mpandas/_libs/hashtable_class_helper.pxi\u001b[0m in \u001b[0;36mpandas._libs.hashtable.PyObjectHashTable.get_item\u001b[0;34m()\u001b[0m\n",
            "\u001b[0;32mpandas/_libs/hashtable_class_helper.pxi\u001b[0m in \u001b[0;36mpandas._libs.hashtable.PyObjectHashTable.get_item\u001b[0;34m()\u001b[0m\n",
            "\u001b[0;31mKeyError\u001b[0m: 'Madante n perdeu'",
            "\nThe above exception was the direct cause of the following exception:\n",
            "\u001b[0;31mKeyError\u001b[0m                                  Traceback (most recent call last)",
            "\u001b[0;32m<ipython-input-20-57a178db9d02>\u001b[0m in \u001b[0;36m<module>\u001b[0;34m\u001b[0m\n\u001b[1;32m      5\u001b[0m \u001b[0mbrasileirao\u001b[0m \u001b[0;34m=\u001b[0m \u001b[0mpd\u001b[0m\u001b[0;34m.\u001b[0m\u001b[0mread_csv\u001b[0m\u001b[0;34m(\u001b[0m\u001b[0;34m'https://raw.githubusercontent.com/BMClab/BasesComputacionais/master/dados/tabelaBrasileirao2018.csv'\u001b[0m\u001b[0;34m)\u001b[0m\u001b[0;34m\u001b[0m\u001b[0;34m\u001b[0m\u001b[0m\n\u001b[1;32m      6\u001b[0m \u001b[0mbrasileirao\u001b[0m\u001b[0;34m[\u001b[0m\u001b[0;34m'Mandante n perdeu'\u001b[0m\u001b[0;34m]\u001b[0m \u001b[0;34m=\u001b[0m \u001b[0mbrasileirao\u001b[0m \u001b[0;34m[\u001b[0m\u001b[0;34m'Placar do Mandante'\u001b[0m\u001b[0;34m]\u001b[0m\u001b[0;34m>=\u001b[0m\u001b[0mbrasileirao\u001b[0m\u001b[0;34m[\u001b[0m\u001b[0;34m'Placar do Visitante'\u001b[0m\u001b[0;34m]\u001b[0m\u001b[0;34m\u001b[0m\u001b[0;34m\u001b[0m\u001b[0m\n\u001b[0;32m----> 7\u001b[0;31m \u001b[0mmandante\u001b[0m\u001b[0;34m=\u001b[0m\u001b[0mbrasileirao\u001b[0m\u001b[0;34m[\u001b[0m\u001b[0;34m'Madante n perdeu'\u001b[0m\u001b[0;34m]\u001b[0m\u001b[0;34m.\u001b[0m\u001b[0mvaleu_counts\u001b[0m\u001b[0;34m(\u001b[0m\u001b[0;34m)\u001b[0m\u001b[0;34m\u001b[0m\u001b[0;34m\u001b[0m\u001b[0m\n\u001b[0m\u001b[1;32m      8\u001b[0m \u001b[0mforma\u001b[0m \u001b[0;34m=\u001b[0m \u001b[0mbrasileirao\u001b[0m\u001b[0;34m\u001b[0m\u001b[0;34m\u001b[0m\u001b[0m\n\u001b[1;32m      9\u001b[0m \u001b[0mporcentagem\u001b[0m \u001b[0;34m=\u001b[0m \u001b[0;34m(\u001b[0m\u001b[0mmandante\u001b[0m\u001b[0;34m[\u001b[0m\u001b[0;32mTrue\u001b[0m\u001b[0;34m]\u001b[0m\u001b[0;34m*\u001b[0m\u001b[0;36m100\u001b[0m\u001b[0;34m)\u001b[0m\u001b[0;34m/\u001b[0m\u001b[0mforma\u001b[0m\u001b[0;34m[\u001b[0m\u001b[0;36m0\u001b[0m\u001b[0;34m]\u001b[0m\u001b[0;34m\u001b[0m\u001b[0;34m\u001b[0m\u001b[0m\n",
            "\u001b[0;32m/usr/local/lib/python3.7/dist-packages/pandas/core/frame.py\u001b[0m in \u001b[0;36m__getitem__\u001b[0;34m(self, key)\u001b[0m\n\u001b[1;32m   3456\u001b[0m             \u001b[0;32mif\u001b[0m \u001b[0mself\u001b[0m\u001b[0;34m.\u001b[0m\u001b[0mcolumns\u001b[0m\u001b[0;34m.\u001b[0m\u001b[0mnlevels\u001b[0m \u001b[0;34m>\u001b[0m \u001b[0;36m1\u001b[0m\u001b[0;34m:\u001b[0m\u001b[0;34m\u001b[0m\u001b[0;34m\u001b[0m\u001b[0m\n\u001b[1;32m   3457\u001b[0m                 \u001b[0;32mreturn\u001b[0m \u001b[0mself\u001b[0m\u001b[0;34m.\u001b[0m\u001b[0m_getitem_multilevel\u001b[0m\u001b[0;34m(\u001b[0m\u001b[0mkey\u001b[0m\u001b[0;34m)\u001b[0m\u001b[0;34m\u001b[0m\u001b[0;34m\u001b[0m\u001b[0m\n\u001b[0;32m-> 3458\u001b[0;31m             \u001b[0mindexer\u001b[0m \u001b[0;34m=\u001b[0m \u001b[0mself\u001b[0m\u001b[0;34m.\u001b[0m\u001b[0mcolumns\u001b[0m\u001b[0;34m.\u001b[0m\u001b[0mget_loc\u001b[0m\u001b[0;34m(\u001b[0m\u001b[0mkey\u001b[0m\u001b[0;34m)\u001b[0m\u001b[0;34m\u001b[0m\u001b[0;34m\u001b[0m\u001b[0m\n\u001b[0m\u001b[1;32m   3459\u001b[0m             \u001b[0;32mif\u001b[0m \u001b[0mis_integer\u001b[0m\u001b[0;34m(\u001b[0m\u001b[0mindexer\u001b[0m\u001b[0;34m)\u001b[0m\u001b[0;34m:\u001b[0m\u001b[0;34m\u001b[0m\u001b[0;34m\u001b[0m\u001b[0m\n\u001b[1;32m   3460\u001b[0m                 \u001b[0mindexer\u001b[0m \u001b[0;34m=\u001b[0m \u001b[0;34m[\u001b[0m\u001b[0mindexer\u001b[0m\u001b[0;34m]\u001b[0m\u001b[0;34m\u001b[0m\u001b[0;34m\u001b[0m\u001b[0m\n",
            "\u001b[0;32m/usr/local/lib/python3.7/dist-packages/pandas/core/indexes/base.py\u001b[0m in \u001b[0;36mget_loc\u001b[0;34m(self, key, method, tolerance)\u001b[0m\n\u001b[1;32m   3361\u001b[0m                 \u001b[0;32mreturn\u001b[0m \u001b[0mself\u001b[0m\u001b[0;34m.\u001b[0m\u001b[0m_engine\u001b[0m\u001b[0;34m.\u001b[0m\u001b[0mget_loc\u001b[0m\u001b[0;34m(\u001b[0m\u001b[0mcasted_key\u001b[0m\u001b[0;34m)\u001b[0m\u001b[0;34m\u001b[0m\u001b[0;34m\u001b[0m\u001b[0m\n\u001b[1;32m   3362\u001b[0m             \u001b[0;32mexcept\u001b[0m \u001b[0mKeyError\u001b[0m \u001b[0;32mas\u001b[0m \u001b[0merr\u001b[0m\u001b[0;34m:\u001b[0m\u001b[0;34m\u001b[0m\u001b[0;34m\u001b[0m\u001b[0m\n\u001b[0;32m-> 3363\u001b[0;31m                 \u001b[0;32mraise\u001b[0m \u001b[0mKeyError\u001b[0m\u001b[0;34m(\u001b[0m\u001b[0mkey\u001b[0m\u001b[0;34m)\u001b[0m \u001b[0;32mfrom\u001b[0m \u001b[0merr\u001b[0m\u001b[0;34m\u001b[0m\u001b[0;34m\u001b[0m\u001b[0m\n\u001b[0m\u001b[1;32m   3364\u001b[0m \u001b[0;34m\u001b[0m\u001b[0m\n\u001b[1;32m   3365\u001b[0m         \u001b[0;32mif\u001b[0m \u001b[0mis_scalar\u001b[0m\u001b[0;34m(\u001b[0m\u001b[0mkey\u001b[0m\u001b[0;34m)\u001b[0m \u001b[0;32mand\u001b[0m \u001b[0misna\u001b[0m\u001b[0;34m(\u001b[0m\u001b[0mkey\u001b[0m\u001b[0;34m)\u001b[0m \u001b[0;32mand\u001b[0m \u001b[0;32mnot\u001b[0m \u001b[0mself\u001b[0m\u001b[0;34m.\u001b[0m\u001b[0mhasnans\u001b[0m\u001b[0;34m:\u001b[0m\u001b[0;34m\u001b[0m\u001b[0;34m\u001b[0m\u001b[0m\n",
            "\u001b[0;31mKeyError\u001b[0m: 'Madante n perdeu'"
          ]
        }
      ]
    },
    {
      "cell_type": "code",
      "source": [
        "#2) \n",
        "import pandas as pd\n",
        "import numpy as np\n",
        "import matplotlib.pyplot as plt\n",
        "\n",
        "#a)\n",
        "tabela= pd.read_csv('https://raw.githubusercontent.com/BMClab/BasesComputacionais/master/dados/inflacaoMensal.csv')\n",
        "tabela ['Ano+Mês'] =tabela['Ano']+tabela['Mês']/12\n",
        "ano=tabela['Ano+Mês']\n",
        "inflacao= tabela['Inflação']\n",
        "max=inflacao.max()\n",
        "\n",
        "#b)\n",
        "plt.figure()\n",
        "plt.plot(ano,inflacao)\n",
        "plt.plot(ano[inflacao==max],max, marker = '.', color = 'red')\n",
        "plt.grid()\n",
        "plt.xlabel('Tempo')\n",
        "plt.ylabel('Taxa de inflacao')\n",
        "plt.show()"
      ],
      "metadata": {
        "colab": {
          "base_uri": "https://localhost:8080/",
          "height": 279
        },
        "id": "0IMm-Ek-IKGG",
        "outputId": "f744563e-331f-428d-88bc-ca88aa15802d"
      },
      "execution_count": 18,
      "outputs": [
        {
          "output_type": "display_data",
          "data": {
            "text/plain": [
              "<Figure size 432x288 with 1 Axes>"
            ],
            "image/png": "[encoded data removed]"
          },
          "metadata": {
            "needs_background": "light"
          }
        }
      ]
    },
    {
      "cell_type": "code",
      "source": [
        "#3)\n",
        "import pandas as nd\n",
        "import numpy as np\n",
        "\n",
        "#a)\n",
        "data = pd.read_csv('https://raw.githubusercontent.com/BMClab/BasesComputacionais/master/dados/netflix.csv')\n",
        "data['Categoria'] = 'Filme'\n",
        "data['Categoria'][data['Title'].str.contains(\":Temporada|: Stranger|: Parte\")] = 'Série'\n",
        "data[['Programa','Episodio']] = data[data['Categoria']=='Série']['Title'].str.split(pat = ': Temporada|: Stranger Things|: Parte', expand = True, n =1)\n",
        "data.loc[data['Categoria']== 'Filme', 'Programa'] = data.loc[data['Categoria']=='Filme', 'Title']\n",
        "data = data.drop(columns = 'Title')\n",
        "\n",
        "maisvistos=data['Programa'].value_counts()\n",
        "print('Os 10 Programas mais vistos foram\\n', maisvistos.head(10))"
      ],
      "metadata": {
        "colab": {
          "base_uri": "https://localhost:8080/"
        },
        "id": "6OZt3KRSKlaf",
        "outputId": "ef4e0637-0956-45fd-e1eb-126390b67437"
      },
      "execution_count": 19,
      "outputs": [
        {
          "output_type": "stream",
          "name": "stdout",
          "text": [
            "Os 10 Programas mais vistos foram\n",
            " Stranger Things                                                     6\n",
            "Star Trek: Voyager                                                  3\n",
            "Os 3 Lá Embaixo: Contos da Arcadia                                  2\n",
            "The Crown: Temporada 4: O teste de Balmoral                         1\n",
            "Star Trek: Enterprise: Temporada 1: Inesperado                      1\n",
            "Jornada nas Estrelas: A nova geração: Temporada 3: Ménage à Troi    1\n",
            "Star Trek: Enterprise: Temporada 1: Frente fria                     1\n",
            "Star Trek: Enterprise: Temporada 1: Mercadores do espaço            1\n",
            "Uma Mulher Espetacular: Temporada 1: Episódio 1                     1\n",
            "Good Morning Call: Temporada 1: Enfim a sós                         1\n",
            "Name: Programa, dtype: int64\n"
          ]
        }
      ]
    },
    {
      "cell_type": "code",
      "source": [
        "#4)\n",
        "import pandas as pd\n",
        "import numpy as np\n",
        "\n",
        "tabela = pd.read_csv('https://raw.githubusercontent.com/BMClab/BasesComputacionais/master/dados/tabelaBrasileirao2018.csv')\n",
        "media= tabela.groupby('Estádio')['Renda (R$)'].mean()\n",
        "print('A média da renda arrecadada para cada estádio foi de:\\n',media)"
      ],
      "metadata": {
        "colab": {
          "base_uri": "https://localhost:8080/"
        },
        "id": "VhLOO-M_Oms-",
        "outputId": "b9d5c83c-b499-41ab-af6d-1c09d541b3a8"
      },
      "execution_count": 21,
      "outputs": [
        {
          "output_type": "stream",
          "name": "stdout",
          "text": [
            "A média da renda arrecadada para cada estádio foi de:\n",
            " Estádio\n",
            "Allianz Parque, São Paulo                 2.184977e+06\n",
            "Arena Condá, Chapecó                      2.561482e+05\n",
            "Arena Corinthians, São Paulo              1.335615e+06\n",
            "Arena Fonte Nova, Salvador                3.916003e+05\n",
            "Arena Pernambuco, São Lourenço da Mata    5.939100e+05\n",
            "Arena da Baixada, Curitiba                2.660111e+05\n",
            "Arena do Grêmio, Porto Alegre             7.605969e+05\n",
            "Estádio Barradão, Salvador                9.639837e+04\n",
            "Estádio Beira-Rio, Porto Alegre           8.500737e+05\n",
            "Estádio Castelão, Fortaleza               6.231027e+05\n",
            "Estádio Engenhão, Rio de Janeiro          1.670227e+05\n",
            "Estádio Ilha do Retiro, Recife            1.826286e+05\n",
            "Estádio Indepedência, Belo Horizonte      1.131445e+05\n",
            "Estádio Independência, Belo Horizonte     1.854703e+05\n",
            "Estádio Mineirão, Belo Horizonte          3.253155e+05\n",
            "Estádio Nacional, Brasília                2.614730e+06\n",
            "Estádio Presidente Vargas, Fortaleza      1.030408e+05\n",
            "Estádio São Januário, Rio de Janeiro      2.422784e+05\n",
            "Estádio Vila Belmiro, Santos              1.646681e+05\n",
            "Estádio Vila Capanema, Curitiba           1.534964e+05\n",
            "Estádio de Pituaçu, Salvador              2.974750e+05\n",
            "Estádio do Café, Londrina                 1.953570e+06\n",
            "Estádio do Maracanã, Rio de Janeiro       8.491581e+05\n",
            "Estádio do Morumbi, São Paulo             1.188519e+06\n",
            "Estádio do Pacaembu, São Paulo            7.092811e+05\n",
            "Name: Renda (R$), dtype: float64\n"
          ]
        }
      ]
    }
  ]
}