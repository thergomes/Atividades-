{
  "nbformat": 4,
  "nbformat_minor": 0,
  "metadata": {
    "colab": {
      "provenance": [],
      "authorship_tag": "ABX9TyMhB2jAe5U8UZMY7ZIN36C+",
      "include_colab_link": true
    },
    "kernelspec": {
      "name": "python3",
      "display_name": "Python 3"
    },
    "language_info": {
      "name": "python"
    }
  },
  "cells": [
    {
      "cell_type": "markdown",
      "metadata": {
        "id": "view-in-github",
        "colab_type": "text"
      },
      "source": [
        "<a href=\"https://colab.research.google.com/github/thergomes/BCC-19-Esther-de-Oliveira-Gomes/blob/main/Atividade11EstherdeOliveiraGomes.ipynb\" target=\"_parent\"><img src=\"https://colab.research.google.com/assets/colab-badge.svg\" alt=\"Open In Colab\"/></a>"
      ]
    },
    {
      "cell_type": "code",
      "execution_count": 10,
      "metadata": {
        "colab": {
          "base_uri": "https://localhost:8080/",
          "height": 130
        },
        "id": "zecTEqVfakPb",
        "outputId": "66e9b2dc-3e8c-40c0-e3cd-b889dae5ba60"
      },
      "outputs": [
        {
          "output_type": "error",
          "ename": "IndentationError",
          "evalue": "ignored",
          "traceback": [
            "\u001b[0;36m  File \u001b[0;32m\"<tokenize>\"\u001b[0;36m, line \u001b[0;32m24\u001b[0m\n\u001b[0;31m    print('S=',S)\u001b[0m\n\u001b[0m    ^\u001b[0m\n\u001b[0;31mIndentationError\u001b[0m\u001b[0;31m:\u001b[0m unindent does not match any outer indentation level\n"
          ]
        }
      ],
      "source": [
        "import numpy as np\n",
        "\n",
        "#a)\n",
        "N=50\n",
        "S=0\n",
        "\n",
        "for i in range(N):\n",
        "  if i%2==0:\n",
        "    S=S+4/np.asb(3*i-(i-1))\n",
        "  if i%2==1:\n",
        "    S=S-4/np.abs(3*i-(i-1))\n",
        "print('S=',S)\n",
        "\n",
        "#b)\n",
        "\n",
        "N=500\n",
        "S=0\n",
        "\n",
        "for i in range(N)\n",
        " if i%2==0:\n",
        "   S=S+4/np.abs(3*i-(i-1))\n",
        " if i%2==1:\n",
        "   S=S-4/np.abs(3*i-(i-1))\n",
        "  print('S=',S)\n",
        "\n",
        "#c)\n",
        "\n",
        "N=1000\n",
        "S=0\n",
        "\n",
        "for i in range(N)\n",
        " if i%2==0:\n",
        "   S=S+4/np.abs(3*i-(i-1))\n",
        "  if i%2==1:\n",
        "   S=S-4/np.abs(3*i(i-1))\n",
        "print('S=',S)\n",
        "\n",
        "#d)\n",
        "\n",
        "N=1000\n",
        "S=0\n",
        "\n",
        "for i in range(N):\n",
        "  if i%2==0:\n",
        "    S=S+4/np.abs(3*i-(i-1))\n",
        "  if i%2==1:\n",
        "    S=S-4/np.abs(3*i-(i-1))\n",
        "print('S=',S)\n"
      ]
    }
  ]
}