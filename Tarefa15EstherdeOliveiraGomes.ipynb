{
  "nbformat": 4,
  "nbformat_minor": 0,
  "metadata": {
    "colab": {
      "provenance": [],
      "authorship_tag": "ABX9TyN8OqE14RkMFyVa2z26Jw4s",
      "include_colab_link": true
    },
    "kernelspec": {
      "name": "python3",
      "display_name": "Python 3"
    },
    "language_info": {
      "name": "python"
    }
  },
  "cells": [
    {
      "cell_type": "markdown",
      "metadata": {
        "id": "view-in-github",
        "colab_type": "text"
      },
      "source": [
        "<a href=\"https://colab.research.google.com/github/thergomes/BCC-19-Esther-de-Oliveira-Gomes/blob/main/Tarefa15EstherdeOliveiraGomes.ipynb\" target=\"_parent\"><img src=\"https://colab.research.google.com/assets/colab-badge.svg\" alt=\"Open In Colab\"/></a>"
      ]
    },
    {
      "cell_type": "markdown",
      "source": [
        "Esther de Oliveira Gomes"
      ],
      "metadata": {
        "id": "F8X46D-fylSy"
      }
    },
    {
      "cell_type": "code",
      "source": [
        "def noIntervalo(a,b,x):\n",
        "\n",
        "  '''\n",
        "Retorna True se x está entre a e b e False se não\n",
        "\n",
        "Parâmetros:\n",
        "-------------------------------------------------\n",
        "a:int \n",
        "Número inteiro menor \n",
        "\n",
        "b:int\n",
        "Número inteiro maior \n",
        "\n",
        "x:int\n",
        "Número inteiro que se quer fazer a verificação\n",
        "\n",
        "Retorna\n",
        "-------------------------------------------------\n",
        "entre:boolean\n",
        "Retorna True se a condição for verdadeira e False se não for\n",
        "  '''\n",
        "\n",
        "  if a<x<b:\n",
        "    print(x,'está entre',a,'e',b)\n",
        "    entre= True\n",
        "  else:\n",
        "    print(x,'não está entre',a,'e',b)\n",
        "    entre= False\n",
        "  return entre\n",
        "\n",
        "#a)\n",
        "a1=-2.5\n",
        "b1=6.3\n",
        "x1=9.1\n",
        "a=noIntervalo(a1,b1,x1)\n",
        "print(a)\n",
        "\n",
        "#b)\n",
        "a2=-10\n",
        "b2=7\n",
        "x2=2.2\n",
        "b=noIntervalo(a2,b2,x2)\n",
        "print(b)\n",
        "\n",
        "#c)\n",
        "a3=67.2\n",
        "b3=87.2\n",
        "x3=8.1\n",
        "c=noIntervalo(a3,b3,x3)\n",
        "print(c)"
      ],
      "metadata": {
        "id": "G1izMsI8yp-n"
      },
      "execution_count": null,
      "outputs": []
    }
  ]
}