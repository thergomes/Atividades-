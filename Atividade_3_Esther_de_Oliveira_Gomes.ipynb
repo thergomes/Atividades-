{
  "nbformat": 4,
  "nbformat_minor": 0,
  "metadata": {
    "colab": {
      "provenance": [],
      "authorship_tag": "ABX9TyONaIvdir64VZypZt7G4lC5",
      "include_colab_link": true
    },
    "kernelspec": {
      "name": "python3",
      "display_name": "Python 3"
    },
    "language_info": {
      "name": "python"
    }
  },
  "cells": [
    {
      "cell_type": "markdown",
      "metadata": {
        "id": "view-in-github",
        "colab_type": "text"
      },
      "source": [
        "<a href=\"https://colab.research.google.com/github/thergomes/Atividades-/blob/main/Atividade_3_Esther_de_Oliveira_Gomes.ipynb\" target=\"_parent\"><img src=\"https://colab.research.google.com/assets/colab-badge.svg\" alt=\"Open In Colab\"/></a>"
      ]
    },
    {
      "cell_type": "code",
      "execution_count": 6,
      "metadata": {
        "colab": {
          "base_uri": "https://localhost:8080/"
        },
        "id": "GPTIYbmpcfpi",
        "outputId": "340c704c-e69f-4f85-accf-bbac85a9f40f"
      },
      "outputs": [
        {
          "output_type": "stream",
          "name": "stdout",
          "text": [
            "a) 0.14m³\n",
            "b) 4.19m³\n",
            "c) 28.73m³\n"
          ]
        }
      ],
      "source": [
        "#Exercicio 1 \n",
        "#formula utilizada: V = 4/3 * np.pi*r**3\n",
        "\n",
        "import numpy as np\n",
        "a = 4/3*np.pi*0.32**3\n",
        "b = 4/3*np.pi*1**3\n",
        "c = 4/3*np.pi*1.9**3\n",
        "\n",
        "print('a) {:.2f}m³'.format(a))\n",
        "print('b) {:.2f}m³'.format(b))\n",
        "print('c) {:.2f}m³'.format(c))"
      ]
    },
    {
      "cell_type": "code",
      "source": [
        "# Exercicio 2 \n",
        "\n",
        "#formula utilizada\n",
        "a = (9*(-10) + 160)/5\n",
        "b = (9*30 + 160)/5\n",
        "c = (9*5 + 160)/5\n",
        "\n",
        "print('a) {:.1f}°F'.format(a))\n",
        "print('b) {:.1f}°F'.format(b))\n",
        "print('c) {:.1f}°F'.format(c))"
      ],
      "metadata": {
        "colab": {
          "base_uri": "https://localhost:8080/"
        },
        "id": "X6Q33aoifBpH",
        "outputId": "52214130-ed37-45df-ae30-5c89e9e26b89"
      },
      "execution_count": 5,
      "outputs": [
        {
          "output_type": "stream",
          "name": "stdout",
          "text": [
            "a) 14.0°F\n",
            "b) 86.0°F\n",
            "c) 41.0°F\n"
          ]
        }
      ]
    },
    {
      "cell_type": "code",
      "source": [],
      "metadata": {
        "id": "r9nc2iEMg1xJ"
      },
      "execution_count": null,
      "outputs": []
    }
  ]
}